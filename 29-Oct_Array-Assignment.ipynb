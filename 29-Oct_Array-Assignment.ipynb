{
 "cells": [
  {
   "cell_type": "code",
   "execution_count": 3,
   "id": "5a685f7f",
   "metadata": {},
   "outputs": [
    {
     "name": "stdout",
     "output_type": "stream",
     "text": [
      "True\n"
     ]
    }
   ],
   "source": [
    "def duplicates(arr, n, k):\n",
    "    for i in range(n):\n",
    "        j=i+1\n",
    "        range_=k\n",
    "        \n",
    "        while(range_>0 and j<n):\n",
    "            if (arr[i]==arr[j]):\n",
    "                return True\n",
    "            j+=1\n",
    "            range_ -=1\n",
    "    return False\n",
    "\n",
    "arr=[1,2,4,2,5,9]\n",
    "n=len(arr)\n",
    "if (duplicates(arr, n, 2)==True):\n",
    "    print(True)\n",
    "else:\n",
    "    print(False)"
   ]
  },
  {
   "cell_type": "code",
   "execution_count": 11,
   "id": "f75d6957",
   "metadata": {},
   "outputs": [
    {
     "name": "stdout",
     "output_type": "stream",
     "text": [
      "Original Array is:\n",
      "1 2 3 4 5 6 7 \n",
      "Array after rotating k times:\n",
      "5 6 7 1 2 3 4 "
     ]
    }
   ],
   "source": [
    "arr = [1, 2, 3, 4, 5, 6, 7]\n",
    "k = 3\n",
    "print('Original Array is:')\n",
    "for i in range(0, len(arr)):\n",
    "    print(arr[i], end=' ')\n",
    "\n",
    "for i in range(0, n):\n",
    "    last=arr[len(arr)-1];\n",
    "    for j in range(len(arr)-1,-1,-1):\n",
    "        arr[j]=arr[j-1]\n",
    "\n",
    "    arr[0]=last\n",
    "\n",
    "print()\n",
    "print('Array after rotating k times:')\n",
    "for i in range(0, len(arr)):\n",
    "    print(arr[i], end=' ')"
   ]
  },
  {
   "cell_type": "code",
   "execution_count": 14,
   "id": "0c168767",
   "metadata": {},
   "outputs": [
    {
     "name": "stdout",
     "output_type": "stream",
     "text": [
      "[12, 9, 7, 5, 4, 2]\n"
     ]
    }
   ],
   "source": [
    "arr = [2, 4, 5, 7, 9, 12] \n",
    "arr.reverse()\n",
    "print(arr)"
   ]
  },
  {
   "cell_type": "code",
   "execution_count": 15,
   "id": "3f33e7a4",
   "metadata": {},
   "outputs": [
    {
     "name": "stdout",
     "output_type": "stream",
     "text": [
      "The Maximum element in the array is: 20\n"
     ]
    }
   ],
   "source": [
    "arr = [10, 5, 20, 8, 15]\n",
    "max=arr[0]\n",
    "for i in range(0, len(arr)):\n",
    "    if(arr[i]>max):\n",
    "        max=arr[i]\n",
    "    \n",
    "print(\"The Maximum element in the array is: \"+ str(max))"
   ]
  },
  {
   "cell_type": "code",
   "execution_count": 18,
   "id": "61c38e5e",
   "metadata": {},
   "outputs": [
    {
     "name": "stdout",
     "output_type": "stream",
     "text": [
      "1 2 3 4 5 "
     ]
    }
   ],
   "source": [
    "def removeDuplicates(arr, n):\n",
    "    arr.sort()\n",
    "    res = list(range(n))\n",
    "    j = 0;\n",
    "    for i in range(0, n-1):\n",
    "        if arr[i] != arr[i+1]:\n",
    "            res[j] = arr[i]\n",
    "            j += 1\n",
    "    res[j] = arr[n-1]\n",
    "    j += 1\n",
    "    for i in range(0, j):\n",
    "        arr[i] = res[i]\n",
    "    for i in range(0, j):\n",
    "        print(arr[i],end=\" \")\n",
    "arr = [1, 1, 2, 2, 2, 3, 3, 4, 4, 4, 5, 5] \n",
    "n = len(arr)\n",
    "removeDuplicates(arr, n)"
   ]
  },
  {
   "cell_type": "code",
   "execution_count": null,
   "id": "c4230456",
   "metadata": {},
   "outputs": [],
   "source": []
  }
 ],
 "metadata": {
  "kernelspec": {
   "display_name": "Python 3 (ipykernel)",
   "language": "python",
   "name": "python3"
  },
  "language_info": {
   "codemirror_mode": {
    "name": "ipython",
    "version": 3
   },
   "file_extension": ".py",
   "mimetype": "text/x-python",
   "name": "python",
   "nbconvert_exporter": "python",
   "pygments_lexer": "ipython3",
   "version": "3.11.4"
  }
 },
 "nbformat": 4,
 "nbformat_minor": 5
}
